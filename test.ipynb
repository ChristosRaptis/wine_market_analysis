{
 "cells": [
  {
   "cell_type": "code",
   "execution_count": 26,
   "metadata": {},
   "outputs": [],
   "source": [
    "import sqlite3\n",
    "import streamlit as st"
   ]
  },
  {
   "cell_type": "code",
   "execution_count": 27,
   "metadata": {},
   "outputs": [],
   "source": [
    "def run_sql_file(file, cursor):\n",
    "    with open(file, 'r') as sql_file:\n",
    "        results = cursor.execute(sql_file.read())\n",
    "    data =results.fetchall()\n",
    "    return data    "
   ]
  },
  {
   "cell_type": "code",
   "execution_count": 28,
   "metadata": {},
   "outputs": [],
   "source": [
    "db = sqlite3.connect('vivino_v2.db')\n",
    "cursor = db.cursor()"
   ]
  },
  {
   "cell_type": "code",
   "execution_count": 29,
   "metadata": {},
   "outputs": [
    {
     "data": {
      "text/plain": [
       "[('Krug Grande Cuvée', 28513, 4.6),\n",
       " ('Dom Pérignon Brut Champagne 2006', 21121, 4.6),\n",
       " ('Caymus Cabernet Sauvignon 2019', 15647, 4.6),\n",
       " ('Dom Pérignon Brut Champagne 2004', 14650, 4.6),\n",
       " ('Antinori Tignanello 2016', 13709, 4.6),\n",
       " ('Antinori Tignanello 2015', 13111, 4.6),\n",
       " ('Antinori Tignanello 2017', 8548, 4.6),\n",
       " ('Tenuta San Guido Sassicaia 2012', 7410, 4.6),\n",
       " ('Tenuta San Guido Sassicaia 2011', 7165, 4.6),\n",
       " ('Tenuta San Guido Sassicaia 2013', 7103, 4.6)]"
      ]
     },
     "execution_count": 29,
     "metadata": {},
     "output_type": "execute_result"
    }
   ],
   "source": [
    "run_sql_file('top_ten_wines.sql', cursor)"
   ]
  }
 ],
 "metadata": {
  "kernelspec": {
   "display_name": "env",
   "language": "python",
   "name": "python3"
  },
  "language_info": {
   "codemirror_mode": {
    "name": "ipython",
    "version": 3
   },
   "file_extension": ".py",
   "mimetype": "text/x-python",
   "name": "python",
   "nbconvert_exporter": "python",
   "pygments_lexer": "ipython3",
   "version": "3.11.3"
  },
  "orig_nbformat": 4
 },
 "nbformat": 4,
 "nbformat_minor": 2
}
