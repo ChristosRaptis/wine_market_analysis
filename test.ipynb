{
 "cells": [
  {
   "cell_type": "code",
   "execution_count": 125,
   "metadata": {},
   "outputs": [],
   "source": [
    "import sqlite3\n",
    "import streamlit as st\n",
    "from matplotlib import pyplot as plt"
   ]
  },
  {
   "cell_type": "code",
   "execution_count": 121,
   "metadata": {},
   "outputs": [],
   "source": [
    "def run_sql_file(file, cursor):\n",
    "    with open(file, 'r') as sql_file:\n",
    "        results = cursor.execute(sql_file.read())\n",
    "    data =results.fetchall()\n",
    "    return data    "
   ]
  },
  {
   "cell_type": "code",
   "execution_count": 122,
   "metadata": {},
   "outputs": [],
   "source": [
    "db = sqlite3.connect('data/vivino_v2.db')\n",
    "\n",
    "cursor = db.cursor()\n"
   ]
  },
  {
   "cell_type": "code",
   "execution_count": 123,
   "metadata": {},
   "outputs": [
    {
     "name": "stdout",
     "output_type": "stream",
     "text": [
      "('Moldavie', 'Israël', 'Hongrie', 'Australie', 'Allemagne', 'Afrique du Sud', 'Suisse', 'Roumanie', 'Portugal', 'Italie', 'Grèce', 'France', 'Espagne', 'Chili', 'Argentine', 'Croatie')\n",
      "(4.5, 4.5, 4.5, 4.5, 4.5, 4.5, 4.4, 4.4, 4.4, 4.4, 4.4, 4.4, 4.4, 4.4, 4.4, 4.3)\n",
      "[('Moldavie', 4.5), ('Israël', 4.5), ('Hongrie', 4.5), ('Australie', 4.5), ('Allemagne', 4.5), ('Afrique du Sud', 4.5), ('Suisse', 4.4), ('Roumanie', 4.4), ('Portugal', 4.4), ('Italie', 4.4), ('Grèce', 4.4), ('France', 4.4), ('Espagne', 4.4), ('Chili', 4.4), ('Argentine', 4.4), ('Croatie', 4.3)]\n"
     ]
    }
   ],
   "source": [
    "with open('queries/average_wine_rating_per_country.sql', 'r') as sql_file:\n",
    "    results = cursor.execute(sql_file.read())\n",
    "rows = results.fetchone()\n",
    "data = results.fetchall()\n",
    "country, rating = zip(*data)\n",
    "print(country)\n",
    "print(rating)\n",
    "print(data)\n"
   ]
  },
  {
   "cell_type": "code",
   "execution_count": 126,
   "metadata": {},
   "outputs": [
    {
     "data": {
      "text/plain": [
       "<BarContainer object of 16 artists>"
      ]
     },
     "execution_count": 126,
     "metadata": {},
     "output_type": "execute_result"
    },
    {
     "data": {
      "image/png": "[encoded data removed]",
      "text/plain": [
       "<Figure size 640x480 with 1 Axes>"
      ]
     },
     "metadata": {},
     "output_type": "display_data"
    }
   ],
   "source": [
    "plt.bar(country, rating)"
   ]
  },
  {
   "cell_type": "code",
   "execution_count": null,
   "metadata": {},
   "outputs": [],
   "source": [
    "cursor.description"
   ]
  },
  {
   "cell_type": "code",
   "execution_count": null,
   "metadata": {},
   "outputs": [
    {
     "name": "stdout",
     "output_type": "stream",
     "text": [
      "États-Unis\n",
      "4.5\n",
      "Moldavie\n",
      "4.5\n",
      "Israël\n",
      "4.5\n",
      "Hongrie\n",
      "4.5\n",
      "Australie\n",
      "4.5\n",
      "Allemagne\n",
      "4.5\n",
      "Afrique du Sud\n",
      "4.5\n",
      "Suisse\n",
      "4.4\n",
      "Roumanie\n",
      "4.4\n",
      "Portugal\n",
      "4.4\n",
      "Italie\n",
      "4.4\n",
      "Grèce\n",
      "4.4\n",
      "France\n",
      "4.4\n",
      "Espagne\n",
      "4.4\n",
      "Chili\n",
      "4.4\n",
      "Argentine\n",
      "4.4\n",
      "Croatie\n",
      "4.3\n"
     ]
    }
   ],
   "source": [
    "top=run_sql_file('queries/average_wine_rating_per_country.sql', cursor)\n",
    "for item in top:\n",
    "    print(item['country'])\n",
    "    print(item['wine_average_rating'])\n",
    "    "
   ]
  }
 ],
 "metadata": {
  "kernelspec": {
   "display_name": "env",
   "language": "python",
   "name": "python3"
  },
  "language_info": {
   "codemirror_mode": {
    "name": "ipython",
    "version": 3
   },
   "file_extension": ".py",
   "mimetype": "text/x-python",
   "name": "python",
   "nbconvert_exporter": "python",
   "pygments_lexer": "ipython3",
   "version": "3.11.3"
  },
  "orig_nbformat": 4
 },
 "nbformat": 4,
 "nbformat_minor": 2
}
